{
 "cells": [
  {
   "cell_type": "code",
   "execution_count": 15,
   "id": "d75e1b7f-50c7-4ec9-8ede-6a96d7099beb",
   "metadata": {},
   "outputs": [
    {
     "data": {
      "text/plain": [
       "['I', 'am', '>:(']"
      ]
     },
     "execution_count": 15,
     "metadata": {},
     "output_type": "execute_result"
    }
   ],
   "source": [
    "#Define Function\n",
    "def emotify(a):\n",
    "    #Seperate sentence into a list\n",
    "    a = list(a.split(\" \"))\n",
    "\n",
    "    #Loop to check each item in list\n",
    "    for i in range(len(a)):\n",
    "\n",
    "        #Replace word with emoji\n",
    "        if a[i] == 'Smile':\n",
    "            a[i] = ':)'\n",
    "        elif a[i] == 'Grin':\n",
    "            a[i] = ':D'\n",
    "        elif a[i] == 'Sad':\n",
    "            a[i] = ':('\n",
    "        elif a[i] == 'Mad':\n",
    "            a[i] = '>:('\n",
    "    #Output support\n",
    "    return a\n",
    "\n",
    "#Run function\n",
    "emotify(\"I am Mad\")"
   ]
  },
  {
   "cell_type": "code",
   "execution_count": null,
   "id": "486194b9-75fe-4434-8dcb-e113504d4260",
   "metadata": {},
   "outputs": [],
   "source": []
  }
 ],
 "metadata": {
  "kernelspec": {
   "display_name": "Python 3 (ipykernel)",
   "language": "python",
   "name": "python3"
  },
  "language_info": {
   "codemirror_mode": {
    "name": "ipython",
    "version": 3
   },
   "file_extension": ".py",
   "mimetype": "text/x-python",
   "name": "python",
   "nbconvert_exporter": "python",
   "pygments_lexer": "ipython3",
   "version": "3.12.4"
  }
 },
 "nbformat": 4,
 "nbformat_minor": 5
}
