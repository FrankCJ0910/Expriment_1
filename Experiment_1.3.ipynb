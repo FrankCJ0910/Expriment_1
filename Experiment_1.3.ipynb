{
 "cells": [
  {
   "cell_type": "code",
   "execution_count": 11,
   "id": "bb596281-1ea4-4a72-965a-3ab5a1a80c17",
   "metadata": {},
   "outputs": [
    {
     "name": "stdout",
     "output_type": "stream",
     "text": [
      "First: 1 \tMiddle: [2, 3, 4, 5] \tLast: 6\n"
     ]
    }
   ],
   "source": [
    "#Define List\n",
    "lst = [1,2,3,4,5,6]\n",
    "\n",
    "#Get lenght of list\n",
    "i = len(lst)\n",
    "\n",
    "#Get first number\n",
    "a = lst[0]\n",
    "\n",
    "#Get Last number\n",
    "b = lst[i-1]\n",
    "\n",
    "#Define list for middle numbers\n",
    "c=[]\n",
    "#Loop to get numbers in between\n",
    "for n in range(1,i-1):\n",
    "    #Add numbers to the list\n",
    "    c.append(lst[n])\n",
    "    \n",
    "#Output numbers\n",
    "print(\"First:\", a, \"\\tMiddle:\", c, \"\\tLast:\",b)"
   ]
  },
  {
   "cell_type": "code",
   "execution_count": null,
   "id": "49fb7386-fb50-44c5-9336-6713cbedd8fc",
   "metadata": {},
   "outputs": [],
   "source": []
  },
  {
   "cell_type": "code",
   "execution_count": null,
   "id": "3b0916ff-27a3-4a90-a868-b9ac6b3203f0",
   "metadata": {},
   "outputs": [],
   "source": []
  },
  {
   "cell_type": "code",
   "execution_count": null,
   "id": "dd239568-2ae9-416d-8d7d-a560739bc747",
   "metadata": {},
   "outputs": [],
   "source": []
  }
 ],
 "metadata": {
  "kernelspec": {
   "display_name": "Python 3 (ipykernel)",
   "language": "python",
   "name": "python3"
  },
  "language_info": {
   "codemirror_mode": {
    "name": "ipython",
    "version": 3
   },
   "file_extension": ".py",
   "mimetype": "text/x-python",
   "name": "python",
   "nbconvert_exporter": "python",
   "pygments_lexer": "ipython3",
   "version": "3.12.4"
  }
 },
 "nbformat": 4,
 "nbformat_minor": 5
}
