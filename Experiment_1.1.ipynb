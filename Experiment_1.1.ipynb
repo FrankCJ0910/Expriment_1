{
 "cells": [
  {
   "cell_type": "code",
   "execution_count": 13,
   "id": "fad66b02-c77d-4a37-a61c-99e8c9373741",
   "metadata": {},
   "outputs": [
    {
     "data": {
      "text/plain": [
       "'ehllo'"
      ]
     },
     "execution_count": 13,
     "metadata": {},
     "output_type": "execute_result"
    }
   ],
   "source": [
    "#Define function\n",
    "def alphabet_soup(a):\n",
    "    #Sort and output value\n",
    "    return ''.join(sorted(a))\n",
    "\n",
    "#Run Function\n",
    "alphabet_soup(\"hello\")\n",
    "    "
   ]
  },
  {
   "cell_type": "code",
   "execution_count": null,
   "id": "a07327de-cf8e-4a73-bf3a-e230a4f05457",
   "metadata": {},
   "outputs": [],
   "source": []
  }
 ],
 "metadata": {
  "kernelspec": {
   "display_name": "Python 3 (ipykernel)",
   "language": "python",
   "name": "python3"
  },
  "language_info": {
   "codemirror_mode": {
    "name": "ipython",
    "version": 3
   },
   "file_extension": ".py",
   "mimetype": "text/x-python",
   "name": "python",
   "nbconvert_exporter": "python",
   "pygments_lexer": "ipython3",
   "version": "3.12.4"
  }
 },
 "nbformat": 4,
 "nbformat_minor": 5
}
