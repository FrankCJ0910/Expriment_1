{
 "cells": [
  {
   "cell_type": "markdown",
   "id": "0bff6aa9-8ce4-4876-a870-b04dbc42ced4",
   "metadata": {},
   "source": [
    "# Problem 1"
   ]
  },
  {
   "cell_type": "code",
   "execution_count": 2,
   "id": "1880b3c5-2836-4eab-8f0c-b3c02a7b3535",
   "metadata": {},
   "outputs": [
    {
     "data": {
      "text/plain": [
       "'ehllo'"
      ]
     },
     "execution_count": 2,
     "metadata": {},
     "output_type": "execute_result"
    }
   ],
   "source": [
    "#Define function\n",
    "def alphabet_soup(a):\n",
    "    #Sort and output value\n",
    "    return ''.join(sorted(a))\n",
    "\n",
    "#Run Function\n",
    "alphabet_soup(\"hello\")\n",
    "    "
   ]
  },
  {
   "cell_type": "markdown",
   "id": "77571181-fe96-487e-8fdc-d42a1cd6bd4a",
   "metadata": {},
   "source": [
    "# Problem 2"
   ]
  },
  {
   "cell_type": "code",
   "execution_count": 4,
   "id": "6ec092bb-4233-4d2f-82f3-94d855017ba1",
   "metadata": {},
   "outputs": [
    {
     "data": {
      "text/plain": [
       "['I', 'am', '>:(']"
      ]
     },
     "execution_count": 4,
     "metadata": {},
     "output_type": "execute_result"
    }
   ],
   "source": [
    "#Define Function\n",
    "def emotify(a):\n",
    "    #Seperate sentence into a list\n",
    "    a = list(a.split(\" \"))\n",
    "\n",
    "    #Loop to check each item in list\n",
    "    for i in range(len(a)):\n",
    "\n",
    "        #Replace word with emoji\n",
    "        if a[i] == 'Smile':\n",
    "            a[i] = ':)'\n",
    "        elif a[i] == 'Grin':\n",
    "            a[i] = ':D'\n",
    "        elif a[i] == 'Sad':\n",
    "            a[i] = ':('\n",
    "        elif a[i] == 'Mad':\n",
    "            a[i] = '>:('\n",
    "    #Output support\n",
    "    return a\n",
    "\n",
    "#Run function\n",
    "emotify(\"I am Mad\")"
   ]
  },
  {
   "cell_type": "markdown",
   "id": "16887b01-44d5-49c4-b931-9cdae05b0aef",
   "metadata": {},
   "source": [
    "# Problem 3"
   ]
  },
  {
   "cell_type": "code",
   "execution_count": 6,
   "id": "2b4b20bd-0ce3-43bd-9c17-06574f19e2cc",
   "metadata": {},
   "outputs": [
    {
     "name": "stdout",
     "output_type": "stream",
     "text": [
      "First: 1 \tMiddle: [2, 3, 4, 5] \tLast: 6\n"
     ]
    }
   ],
   "source": [
    "#Define List\n",
    "lst = [1,2,3,4,5,6]\n",
    "\n",
    "#Get lenght of list\n",
    "i = len(lst)\n",
    "\n",
    "#Get first number\n",
    "a = lst[0]\n",
    "\n",
    "#Get Last number\n",
    "b = lst[i-1]\n",
    "\n",
    "#Define list for middle numbers\n",
    "c=[]\n",
    "#Loop to get numbers in between\n",
    "for n in range(1,i-1):\n",
    "    #Add numbers to the list\n",
    "    c.append(lst[n])\n",
    "    \n",
    "#Output numbers\n",
    "print(\"First:\", a, \"\\tMiddle:\", c, \"\\tLast:\",b)"
   ]
  },
  {
   "cell_type": "code",
   "execution_count": null,
   "id": "6f79a3a4-80e3-473f-85c5-07c67095a29e",
   "metadata": {},
   "outputs": [],
   "source": []
  }
 ],
 "metadata": {
  "kernelspec": {
   "display_name": "Python 3 (ipykernel)",
   "language": "python",
   "name": "python3"
  },
  "language_info": {
   "codemirror_mode": {
    "name": "ipython",
    "version": 3
   },
   "file_extension": ".py",
   "mimetype": "text/x-python",
   "name": "python",
   "nbconvert_exporter": "python",
   "pygments_lexer": "ipython3",
   "version": "3.12.4"
  }
 },
 "nbformat": 4,
 "nbformat_minor": 5
}
